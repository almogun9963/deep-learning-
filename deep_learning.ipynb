{
 "cells": [
  {
   "cell_type": "code",
   "execution_count": 1,
   "metadata": {},
   "outputs": [],
   "source": [
    "#imports\n",
    "import numpy as np\n",
    "import pandas as pd\n",
    "import tensorflow.compat.v1 as tf\n",
    "from sklearn.preprocessing import LabelEncoder\n",
    "from sklearn.preprocessing import MinMaxScaler"
   ]
  },
  {
   "cell_type": "code",
   "execution_count": 2,
   "metadata": {},
   "outputs": [],
   "source": [
    "#getting the dataset\n",
    "data=pd.read_csv(r\"C:\\Users\\ariki\\Downloads\\titanic_data.csv\")"
   ]
  },
  {
   "cell_type": "code",
   "execution_count": 3,
   "metadata": {},
   "outputs": [
    {
     "data": {
      "text/html": [
       "<div>\n",
       "<style scoped>\n",
       "    .dataframe tbody tr th:only-of-type {\n",
       "        vertical-align: middle;\n",
       "    }\n",
       "\n",
       "    .dataframe tbody tr th {\n",
       "        vertical-align: top;\n",
       "    }\n",
       "\n",
       "    .dataframe thead th {\n",
       "        text-align: right;\n",
       "    }\n",
       "</style>\n",
       "<table border=\"1\" class=\"dataframe\">\n",
       "  <thead>\n",
       "    <tr style=\"text-align: right;\">\n",
       "      <th></th>\n",
       "      <th>PassengerId</th>\n",
       "      <th>Survived</th>\n",
       "      <th>Pclass</th>\n",
       "      <th>Name</th>\n",
       "      <th>Sex</th>\n",
       "      <th>Age</th>\n",
       "      <th>SibSp</th>\n",
       "      <th>Parch</th>\n",
       "      <th>Ticket</th>\n",
       "      <th>Fare</th>\n",
       "      <th>Cabin</th>\n",
       "      <th>Embarked</th>\n",
       "    </tr>\n",
       "  </thead>\n",
       "  <tbody>\n",
       "    <tr>\n",
       "      <th>0</th>\n",
       "      <td>1</td>\n",
       "      <td>0</td>\n",
       "      <td>3</td>\n",
       "      <td>Braund, Mr. Owen Harris</td>\n",
       "      <td>male</td>\n",
       "      <td>22.0</td>\n",
       "      <td>1</td>\n",
       "      <td>0</td>\n",
       "      <td>A/5 21171</td>\n",
       "      <td>7.2500</td>\n",
       "      <td>NaN</td>\n",
       "      <td>S</td>\n",
       "    </tr>\n",
       "    <tr>\n",
       "      <th>1</th>\n",
       "      <td>2</td>\n",
       "      <td>1</td>\n",
       "      <td>1</td>\n",
       "      <td>Cumings, Mrs. John Bradley (Florence Briggs Th...</td>\n",
       "      <td>female</td>\n",
       "      <td>38.0</td>\n",
       "      <td>1</td>\n",
       "      <td>0</td>\n",
       "      <td>PC 17599</td>\n",
       "      <td>71.2833</td>\n",
       "      <td>C85</td>\n",
       "      <td>C</td>\n",
       "    </tr>\n",
       "    <tr>\n",
       "      <th>2</th>\n",
       "      <td>3</td>\n",
       "      <td>1</td>\n",
       "      <td>3</td>\n",
       "      <td>Heikkinen, Miss. Laina</td>\n",
       "      <td>female</td>\n",
       "      <td>26.0</td>\n",
       "      <td>0</td>\n",
       "      <td>0</td>\n",
       "      <td>STON/O2. 3101282</td>\n",
       "      <td>7.9250</td>\n",
       "      <td>NaN</td>\n",
       "      <td>S</td>\n",
       "    </tr>\n",
       "    <tr>\n",
       "      <th>3</th>\n",
       "      <td>4</td>\n",
       "      <td>1</td>\n",
       "      <td>1</td>\n",
       "      <td>Futrelle, Mrs. Jacques Heath (Lily May Peel)</td>\n",
       "      <td>female</td>\n",
       "      <td>35.0</td>\n",
       "      <td>1</td>\n",
       "      <td>0</td>\n",
       "      <td>113803</td>\n",
       "      <td>53.1000</td>\n",
       "      <td>C123</td>\n",
       "      <td>S</td>\n",
       "    </tr>\n",
       "    <tr>\n",
       "      <th>4</th>\n",
       "      <td>5</td>\n",
       "      <td>0</td>\n",
       "      <td>3</td>\n",
       "      <td>Allen, Mr. William Henry</td>\n",
       "      <td>male</td>\n",
       "      <td>35.0</td>\n",
       "      <td>0</td>\n",
       "      <td>0</td>\n",
       "      <td>373450</td>\n",
       "      <td>8.0500</td>\n",
       "      <td>NaN</td>\n",
       "      <td>S</td>\n",
       "    </tr>\n",
       "  </tbody>\n",
       "</table>\n",
       "</div>"
      ],
      "text/plain": [
       "   PassengerId  Survived  Pclass  \\\n",
       "0            1         0       3   \n",
       "1            2         1       1   \n",
       "2            3         1       3   \n",
       "3            4         1       1   \n",
       "4            5         0       3   \n",
       "\n",
       "                                                Name     Sex   Age  SibSp  \\\n",
       "0                            Braund, Mr. Owen Harris    male  22.0      1   \n",
       "1  Cumings, Mrs. John Bradley (Florence Briggs Th...  female  38.0      1   \n",
       "2                             Heikkinen, Miss. Laina  female  26.0      0   \n",
       "3       Futrelle, Mrs. Jacques Heath (Lily May Peel)  female  35.0      1   \n",
       "4                           Allen, Mr. William Henry    male  35.0      0   \n",
       "\n",
       "   Parch            Ticket     Fare Cabin Embarked  \n",
       "0      0         A/5 21171   7.2500   NaN        S  \n",
       "1      0          PC 17599  71.2833   C85        C  \n",
       "2      0  STON/O2. 3101282   7.9250   NaN        S  \n",
       "3      0            113803  53.1000  C123        S  \n",
       "4      0            373450   8.0500   NaN        S  "
      ]
     },
     "execution_count": 3,
     "metadata": {},
     "output_type": "execute_result"
    }
   ],
   "source": [
    "#showing the dataset\n",
    "data.head()"
   ]
  },
  {
   "cell_type": "code",
   "execution_count": 4,
   "metadata": {},
   "outputs": [],
   "source": [
    "#droping not concerned columns\n",
    "def drop_not_concerned(data, columns):\n",
    "    return data.drop(columns, axis=1)\n",
    "\n",
    "columns = [\"PassengerId\",\"Name\", \"Ticket\", \"Fare\", \"Cabin\", \"Embarked\"]\n",
    "data = drop_not_concerned(data, columns)"
   ]
  },
  {
   "cell_type": "code",
   "execution_count": 5,
   "metadata": {},
   "outputs": [
    {
     "data": {
      "text/plain": [
       "Survived      0\n",
       "Pclass        0\n",
       "Sex           0\n",
       "Age         177\n",
       "SibSp         0\n",
       "Parch         0\n",
       "dtype: int64"
      ]
     },
     "execution_count": 5,
     "metadata": {},
     "output_type": "execute_result"
    }
   ],
   "source": [
    "# checking the empty spots in test dataset\n",
    "data.isna().sum()"
   ]
  },
  {
   "cell_type": "code",
   "execution_count": 6,
   "metadata": {},
   "outputs": [],
   "source": [
    "# ignoting the empty spots in test dataset\n",
    "data.dropna(inplace=True)"
   ]
  },
  {
   "cell_type": "code",
   "execution_count": 7,
   "metadata": {},
   "outputs": [
    {
     "data": {
      "text/plain": [
       "(714, 6)"
      ]
     },
     "execution_count": 7,
     "metadata": {},
     "output_type": "execute_result"
    }
   ],
   "source": [
    "#shape of the data \n",
    "data.shape"
   ]
  },
  {
   "cell_type": "code",
   "execution_count": 8,
   "metadata": {},
   "outputs": [],
   "source": [
    "#spliting the Pclass into 3 diffrents columns\n",
    "def dummy_data(data, columns):\n",
    "    for column in columns:\n",
    "        data = pd.concat([data, pd.get_dummies(data[column], prefix=column)], axis=1)\n",
    "        data = data.drop(column, axis=1)\n",
    "    return data\n",
    "\n",
    "\n",
    "columns = [\"Pclass\"]\n",
    "data=dummy_data(data, columns)"
   ]
  },
  {
   "cell_type": "code",
   "execution_count": 9,
   "metadata": {},
   "outputs": [],
   "source": [
    "#changing the 'sex' column into 0,1 (0=female, 1=male)\n",
    "def sex_to_int(data):\n",
    "    le = LabelEncoder()\n",
    "    le.fit([\"male\",\"female\"])\n",
    "    data[\"Sex\"]=le.transform(data[\"Sex\"]) \n",
    "    return data\n",
    "\n",
    "data = sex_to_int(data)"
   ]
  },
  {
   "cell_type": "code",
   "execution_count": 10,
   "metadata": {},
   "outputs": [],
   "source": [
    "#normalizing the data\n",
    "def normalize_age(data):\n",
    "    scaler = MinMaxScaler()\n",
    "    data[\"Age\"] = scaler.fit_transform(data[\"Age\"].values.reshape(-1,1))\n",
    "    return data\n",
    "data = normalize_age(data)"
   ]
  },
  {
   "cell_type": "code",
   "execution_count": 11,
   "metadata": {},
   "outputs": [
    {
     "data": {
      "text/html": [
       "<div>\n",
       "<style scoped>\n",
       "    .dataframe tbody tr th:only-of-type {\n",
       "        vertical-align: middle;\n",
       "    }\n",
       "\n",
       "    .dataframe tbody tr th {\n",
       "        vertical-align: top;\n",
       "    }\n",
       "\n",
       "    .dataframe thead th {\n",
       "        text-align: right;\n",
       "    }\n",
       "</style>\n",
       "<table border=\"1\" class=\"dataframe\">\n",
       "  <thead>\n",
       "    <tr style=\"text-align: right;\">\n",
       "      <th></th>\n",
       "      <th>Survived</th>\n",
       "      <th>Sex</th>\n",
       "      <th>Age</th>\n",
       "      <th>SibSp</th>\n",
       "      <th>Parch</th>\n",
       "      <th>Pclass_1</th>\n",
       "      <th>Pclass_2</th>\n",
       "      <th>Pclass_3</th>\n",
       "    </tr>\n",
       "  </thead>\n",
       "  <tbody>\n",
       "    <tr>\n",
       "      <th>0</th>\n",
       "      <td>0</td>\n",
       "      <td>1</td>\n",
       "      <td>0.271174</td>\n",
       "      <td>1</td>\n",
       "      <td>0</td>\n",
       "      <td>0</td>\n",
       "      <td>0</td>\n",
       "      <td>1</td>\n",
       "    </tr>\n",
       "    <tr>\n",
       "      <th>1</th>\n",
       "      <td>1</td>\n",
       "      <td>0</td>\n",
       "      <td>0.472229</td>\n",
       "      <td>1</td>\n",
       "      <td>0</td>\n",
       "      <td>1</td>\n",
       "      <td>0</td>\n",
       "      <td>0</td>\n",
       "    </tr>\n",
       "    <tr>\n",
       "      <th>2</th>\n",
       "      <td>1</td>\n",
       "      <td>0</td>\n",
       "      <td>0.321438</td>\n",
       "      <td>0</td>\n",
       "      <td>0</td>\n",
       "      <td>0</td>\n",
       "      <td>0</td>\n",
       "      <td>1</td>\n",
       "    </tr>\n",
       "    <tr>\n",
       "      <th>3</th>\n",
       "      <td>1</td>\n",
       "      <td>0</td>\n",
       "      <td>0.434531</td>\n",
       "      <td>1</td>\n",
       "      <td>0</td>\n",
       "      <td>1</td>\n",
       "      <td>0</td>\n",
       "      <td>0</td>\n",
       "    </tr>\n",
       "    <tr>\n",
       "      <th>4</th>\n",
       "      <td>0</td>\n",
       "      <td>1</td>\n",
       "      <td>0.434531</td>\n",
       "      <td>0</td>\n",
       "      <td>0</td>\n",
       "      <td>0</td>\n",
       "      <td>0</td>\n",
       "      <td>1</td>\n",
       "    </tr>\n",
       "  </tbody>\n",
       "</table>\n",
       "</div>"
      ],
      "text/plain": [
       "   Survived  Sex       Age  SibSp  Parch  Pclass_1  Pclass_2  Pclass_3\n",
       "0         0    1  0.271174      1      0         0         0         1\n",
       "1         1    0  0.472229      1      0         1         0         0\n",
       "2         1    0  0.321438      0      0         0         0         1\n",
       "3         1    0  0.434531      1      0         1         0         0\n",
       "4         0    1  0.434531      0      0         0         0         1"
      ]
     },
     "execution_count": 11,
     "metadata": {},
     "output_type": "execute_result"
    }
   ],
   "source": [
    "# showing the data after the cleaning\n",
    "data.head()"
   ]
  },
  {
   "cell_type": "code",
   "execution_count": 12,
   "metadata": {},
   "outputs": [
    {
     "data": {
      "text/plain": [
       "0    0\n",
       "1    1\n",
       "2    1\n",
       "3    1\n",
       "4    0\n",
       "Name: Survived, dtype: int64"
      ]
     },
     "execution_count": 12,
     "metadata": {},
     "output_type": "execute_result"
    }
   ],
   "source": [
    "# setting up y label\n",
    "y= data['Survived']\n",
    "y.head()"
   ]
  },
  {
   "cell_type": "code",
   "execution_count": 13,
   "metadata": {},
   "outputs": [
    {
     "data": {
      "text/html": [
       "<div>\n",
       "<style scoped>\n",
       "    .dataframe tbody tr th:only-of-type {\n",
       "        vertical-align: middle;\n",
       "    }\n",
       "\n",
       "    .dataframe tbody tr th {\n",
       "        vertical-align: top;\n",
       "    }\n",
       "\n",
       "    .dataframe thead th {\n",
       "        text-align: right;\n",
       "    }\n",
       "</style>\n",
       "<table border=\"1\" class=\"dataframe\">\n",
       "  <thead>\n",
       "    <tr style=\"text-align: right;\">\n",
       "      <th></th>\n",
       "      <th>Sex</th>\n",
       "      <th>Age</th>\n",
       "      <th>SibSp</th>\n",
       "      <th>Parch</th>\n",
       "      <th>Pclass_1</th>\n",
       "      <th>Pclass_2</th>\n",
       "      <th>Pclass_3</th>\n",
       "    </tr>\n",
       "  </thead>\n",
       "  <tbody>\n",
       "    <tr>\n",
       "      <th>0</th>\n",
       "      <td>1</td>\n",
       "      <td>0.271174</td>\n",
       "      <td>1</td>\n",
       "      <td>0</td>\n",
       "      <td>0</td>\n",
       "      <td>0</td>\n",
       "      <td>1</td>\n",
       "    </tr>\n",
       "    <tr>\n",
       "      <th>1</th>\n",
       "      <td>0</td>\n",
       "      <td>0.472229</td>\n",
       "      <td>1</td>\n",
       "      <td>0</td>\n",
       "      <td>1</td>\n",
       "      <td>0</td>\n",
       "      <td>0</td>\n",
       "    </tr>\n",
       "    <tr>\n",
       "      <th>2</th>\n",
       "      <td>0</td>\n",
       "      <td>0.321438</td>\n",
       "      <td>0</td>\n",
       "      <td>0</td>\n",
       "      <td>0</td>\n",
       "      <td>0</td>\n",
       "      <td>1</td>\n",
       "    </tr>\n",
       "    <tr>\n",
       "      <th>3</th>\n",
       "      <td>0</td>\n",
       "      <td>0.434531</td>\n",
       "      <td>1</td>\n",
       "      <td>0</td>\n",
       "      <td>1</td>\n",
       "      <td>0</td>\n",
       "      <td>0</td>\n",
       "    </tr>\n",
       "    <tr>\n",
       "      <th>4</th>\n",
       "      <td>1</td>\n",
       "      <td>0.434531</td>\n",
       "      <td>0</td>\n",
       "      <td>0</td>\n",
       "      <td>0</td>\n",
       "      <td>0</td>\n",
       "      <td>1</td>\n",
       "    </tr>\n",
       "  </tbody>\n",
       "</table>\n",
       "</div>"
      ],
      "text/plain": [
       "   Sex       Age  SibSp  Parch  Pclass_1  Pclass_2  Pclass_3\n",
       "0    1  0.271174      1      0         0         0         1\n",
       "1    0  0.472229      1      0         1         0         0\n",
       "2    0  0.321438      0      0         0         0         1\n",
       "3    0  0.434531      1      0         1         0         0\n",
       "4    1  0.434531      0      0         0         0         1"
      ]
     },
     "execution_count": 13,
     "metadata": {},
     "output_type": "execute_result"
    }
   ],
   "source": [
    "# setting up x label, aka the features\n",
    "X = data.drop(['Survived'],axis=1)\n",
    "X.head()"
   ]
  },
  {
   "cell_type": "code",
   "execution_count": 14,
   "metadata": {},
   "outputs": [],
   "source": [
    "# getting the x and y train and test\n",
    "from sklearn.model_selection import train_test_split\n",
    "\n",
    "x_train, x_test, y_train, y_test = train_test_split(X ,y, test_size=0.25 ,random_state=1)"
   ]
  },
  {
   "cell_type": "code",
   "execution_count": 15,
   "metadata": {},
   "outputs": [
    {
     "data": {
      "text/plain": [
       "(535, 7)"
      ]
     },
     "execution_count": 15,
     "metadata": {},
     "output_type": "execute_result"
    }
   ],
   "source": [
    "x_train.shape"
   ]
  },
  {
   "cell_type": "code",
   "execution_count": 16,
   "metadata": {},
   "outputs": [
    {
     "data": {
      "text/plain": [
       "(179, 7)"
      ]
     },
     "execution_count": 16,
     "metadata": {},
     "output_type": "execute_result"
    }
   ],
   "source": [
    "x_test.shape"
   ]
  },
  {
   "cell_type": "code",
   "execution_count": 17,
   "metadata": {},
   "outputs": [
    {
     "data": {
      "text/plain": [
       "(535,)"
      ]
     },
     "execution_count": 17,
     "metadata": {},
     "output_type": "execute_result"
    }
   ],
   "source": [
    "y_train.shape"
   ]
  },
  {
   "cell_type": "code",
   "execution_count": 18,
   "metadata": {},
   "outputs": [
    {
     "data": {
      "text/plain": [
       "(179,)"
      ]
     },
     "execution_count": 18,
     "metadata": {},
     "output_type": "execute_result"
    }
   ],
   "source": [
    "y_test.shape"
   ]
  },
  {
   "cell_type": "code",
   "execution_count": 19,
   "metadata": {},
   "outputs": [],
   "source": [
    "y_train = y_train.values.reshape((535,1))\n",
    "y_test = y_test.values.reshape((179,1))"
   ]
  },
  {
   "cell_type": "code",
   "execution_count": 20,
   "metadata": {},
   "outputs": [
    {
     "data": {
      "text/plain": [
       "(535, 1)"
      ]
     },
     "execution_count": 20,
     "metadata": {},
     "output_type": "execute_result"
    }
   ],
   "source": [
    "y_train.shape"
   ]
  },
  {
   "cell_type": "code",
   "execution_count": 21,
   "metadata": {},
   "outputs": [
    {
     "data": {
      "text/plain": [
       "(179, 1)"
      ]
     },
     "execution_count": 21,
     "metadata": {},
     "output_type": "execute_result"
    }
   ],
   "source": [
    "y_test.shape"
   ]
  },
  {
   "cell_type": "code",
   "execution_count": 22,
   "metadata": {},
   "outputs": [],
   "source": [
    "tf.compat.v1.disable_eager_execution()"
   ]
  },
  {
   "cell_type": "code",
   "execution_count": 24,
   "metadata": {},
   "outputs": [
    {
     "name": "stdout",
     "output_type": "stream",
     "text": [
      "Iteration: 0  W: [[-6.4730790e-05]\n",
      " [-1.9822814e-05]\n",
      " [-2.6903830e-05]\n",
      " [-1.3390415e-05]\n",
      " [ 2.6218561e-06]\n",
      " [-8.7790149e-06]\n",
      " [-4.5252062e-05]]  b: [-5.1409217e-05]  loss: 0.76565546\n",
      "accuracy 0.6256983\n",
      "Iteration: 10000  W: [[-0.51254654]\n",
      " [-0.14216796]\n",
      " [-0.16131343]\n",
      " [-0.06343859]\n",
      " [ 0.04563512]\n",
      " [-0.05884506]\n",
      " [-0.3463214 ]]  b: [-0.35953087]  loss: 0.7063425\n",
      "accuracy 0.6256983\n",
      "Iteration: 20000  W: [[-0.8167061 ]\n",
      " [-0.20072128]\n",
      " [-0.19781926]\n",
      " [-0.05141409]\n",
      " [ 0.11280239]\n",
      " [-0.07433719]\n",
      " [-0.5353327 ]]  b: [-0.4968671]  loss: 0.69022274\n",
      "accuracy 0.6256983\n",
      "Iteration: 30000  W: [[-1.0321102 ]\n",
      " [-0.22360137]\n",
      " [-0.19797736]\n",
      " [-0.01990984]\n",
      " [ 0.18816397]\n",
      " [-0.0694344 ]\n",
      " [-0.6610767 ]]  b: [-0.54234666]  loss: 0.68299127\n",
      "accuracy 0.6256983\n",
      "Iteration: 40000  W: [[-1.2057664 ]\n",
      " [-0.22929211]\n",
      " [-0.18379629]\n",
      " [ 0.01767219]\n",
      " [ 0.26777825]\n",
      " [-0.05345723]\n",
      " [-0.75789654]]  b: [-0.5435757]  loss: 0.6781922\n",
      "accuracy 0.6256983\n",
      "Iteration: 50000  W: [[-1.3567183 ]\n",
      " [-0.22559068]\n",
      " [-0.1632    ]\n",
      " [ 0.05605708]\n",
      " [ 0.34954125]\n",
      " [-0.0305301 ]\n",
      " [-0.83918065]]  b: [-0.52017605]  loss: 0.6742786\n",
      "accuracy 0.6256983\n",
      "Iteration: 60000  W: [[-1.4940861 ]\n",
      " [-0.21673113]\n",
      " [-0.14052626]\n",
      " [ 0.09194883]\n",
      " [ 0.4315916 ]\n",
      " [-0.00305721]\n",
      " [-0.9111656 ]]  b: [-0.48266461]  loss: 0.6707934\n",
      "accuracy 0.6480447\n",
      "Iteration: 70000  W: [[-1.6225991 ]\n",
      " [-0.20539267]\n",
      " [-0.1186282 ]\n",
      " [ 0.12312684]\n",
      " [ 0.51213634]\n",
      " [ 0.02726319]\n",
      " [-0.97704756]]  b: [-0.43767154]  loss: 0.66760546\n",
      "accuracy 0.6703911\n",
      "Iteration: 80000  W: [[-1.7447659 ]\n",
      " [-0.1933392 ]\n",
      " [-0.09928041]\n",
      " [ 0.14844148]\n",
      " [ 0.5897408 ]\n",
      " [ 0.05916546]\n",
      " [-1.0384362 ]]  b: [-0.38956428]  loss: 0.66468364\n",
      "accuracy 0.7206704\n",
      "Iteration: 90000  W: [[-1.8618819 ]\n",
      " [-0.18163128]\n",
      " [-0.08329728]\n",
      " [ 0.16772513]\n",
      " [ 0.6633921 ]\n",
      " [ 0.0917486 ]\n",
      " [-1.0961734 ]]  b: [-0.34109697]  loss: 0.66201776\n",
      "accuracy 0.7318436\n",
      "Iteration: 100000  W: [[-1.9745828 ]\n",
      " [-0.17086618]\n",
      " [-0.0707759 ]\n",
      " [ 0.18148632]\n",
      " [ 0.73254675]\n",
      " [ 0.12441322]\n",
      " [-1.150722  ]]  b: [-0.2937902]  loss: 0.6595945\n",
      "accuracy 0.7318436\n"
     ]
    }
   ],
   "source": [
    "#simple logistic regression\n",
    "features = 7\n",
    "x = tf.placeholder(tf.float32, [None, features])\n",
    "y_ = tf.placeholder(tf.float32, [None, 1])\n",
    "W = tf.Variable(tf.zeros([features,1]))\n",
    "b = tf.Variable(tf.zeros([1]))\n",
    "y = tf.nn.sigmoid(tf.matmul(x,W) + b)\n",
    "#loss = tf.reduce_mean(tf.nn.sigmoid_cross_entropy_with_logits(logits=tf.add(tf.matmul(x, W), b), labels=y_))\n",
    "loss = tf.reduce_mean(tf.nn.sigmoid_cross_entropy_with_logits(logits=y, labels=y_))\n",
    "\n",
    "prediction = tf.round(y)\n",
    "correct = tf.cast(tf.equal(prediction, y_), dtype=tf.float32)\n",
    "accuracy = tf.reduce_mean(correct)\n",
    "\n",
    "update = tf.train.GradientDescentOptimizer(0.001).minimize(loss)\n",
    "sess = tf.Session()\n",
    "sess.run(tf.global_variables_initializer())\n",
    "for i in range(0,100001):\n",
    "    sess.run(update, feed_dict = {x:x_train, y_:y_train})\n",
    "    trainAcc = sess.run(accuracy, feed_dict={x: x_test, y_: y_test})\n",
    "    if i % 10000 == 0 :\n",
    "        print('Iteration:' , i , ' W:' , sess.run(W) , ' b:' , sess.run(b), ' loss:', loss.eval(session=sess, feed_dict = {x:x_train, y_:y_train}))\n",
    "        print('accuracy',trainAcc)"
   ]
  },
  {
   "cell_type": "code",
   "execution_count": 25,
   "metadata": {},
   "outputs": [
    {
     "name": "stdout",
     "output_type": "stream",
     "text": [
      "Iteration: 0  W: [[-0.04290079]\n",
      " [-0.02921832]\n",
      " [ 0.05355581]]  b: -7.9597936e-05  loss: 0.69217485\n",
      "accuracy 0.6256983\n",
      "Iteration: 100000  W: [[-0.46228033]\n",
      " [-1.4588023 ]\n",
      " [ 1.7524614 ]]  b: 0.6501099  loss: 0.43698046\n",
      "accuracy 0.8044693\n",
      "Iteration: 200000  W: [[-0.6562868]\n",
      " [-1.6409999]\n",
      " [ 2.0073483]]  b: 0.6592914  loss: 0.43009758\n",
      "accuracy 0.8044693\n",
      "Iteration: 300000  W: [[-0.86188376]\n",
      " [-1.7214214 ]\n",
      " [ 2.0763586 ]]  b: 0.6831091  loss: 0.42705578\n",
      "accuracy 0.7932961\n",
      "Iteration: 400000  W: [[-1.0039388]\n",
      " [-1.720195 ]\n",
      " [ 2.097874 ]]  b: 0.7248943  loss: 0.42613438\n",
      "accuracy 0.79888266\n",
      "Iteration: 500000  W: [[-1.0810578]\n",
      " [-1.7299536]\n",
      " [ 2.101669 ]]  b: 0.74159557  loss: 0.4257556\n",
      "accuracy 0.79888266\n",
      "Iteration: 600000  W: [[-1.1290525]\n",
      " [-1.7418746]\n",
      " [ 2.101669 ]]  b: 0.7645355  loss: 0.42557546\n",
      "accuracy 0.79888266\n",
      "Iteration: 700000  W: [[-1.1926229]\n",
      " [-1.7647964]\n",
      " [ 2.0999558]]  b: 0.7838194  loss: 0.42499492\n",
      "accuracy 0.8044693\n",
      "Iteration: 800000  W: [[-1.2442192]\n",
      " [-1.7923357]\n",
      " [ 2.0999558]]  b: 0.81502354  loss: 0.42482722\n",
      "accuracy 0.8044693\n",
      "Iteration: 900000  W: [[-1.2706375]\n",
      " [-1.8161776]\n",
      " [ 2.0999558]]  b: 0.8441091  loss: 0.42471886\n",
      "accuracy 0.8044693\n",
      "Iteration: 1000000  W: [[-1.2864785]\n",
      " [-1.8394738]\n",
      " [ 2.0992901]]  b: 0.8722635  loss: 0.42463347\n",
      "accuracy 0.8044693\n"
     ]
    }
   ],
   "source": [
    "#adding hidden layer\n",
    "features = 7\n",
    "hidden_layer_nodes = 3\n",
    "x = tf.placeholder(tf.float32, [None, features])\n",
    "y_ = tf.placeholder(tf.float32, [None, 1])\n",
    "W1 = tf.Variable(tf.truncated_normal([features,hidden_layer_nodes], stddev=0.1))\n",
    "b1 = tf.Variable(tf.constant(0.1, shape=[hidden_layer_nodes]))\n",
    "z1 = tf.add(tf.matmul(x,W1),b1)\n",
    "a1 = tf.nn.relu(z1)\n",
    "W2 = tf.Variable(tf.truncated_normal([hidden_layer_nodes,1], stddev=0.1))\n",
    "b2 = tf.Variable(0.)\n",
    "z2 = tf.matmul(a1,W2) + b2\n",
    "y = 1 / (1.0 + tf.exp(-z2))\n",
    "loss = tf.reduce_mean(-(y_ * tf.log(y) + (1 - y_) * tf.log( 1 - y)))\n",
    "\n",
    "prediction3 = tf.round(y)\n",
    "correct3 = tf.cast(tf.equal(prediction3, y_), dtype=tf.float32)\n",
    "accuracy3 = tf.reduce_mean(correct3)\n",
    "\n",
    "\n",
    "update = tf.train.GradientDescentOptimizer(0.001).minimize(loss)\n",
    "sess = tf.Session()\n",
    "sess.run(tf.global_variables_initializer())\n",
    "for i in range(0,1000001):\n",
    "    sess.run(update, feed_dict = {x:x_train, y_:y_train})\n",
    "    trainAcc3 = sess.run(accuracy3, feed_dict={x: x_test, y_: y_test})\n",
    "    if i % 100000 == 0 :\n",
    "        print('Iteration:' , i , ' W:' , sess.run(W2) , ' b:' , sess.run(b2), ' loss:', loss.eval(session=sess, feed_dict = {x:x_train, y_:y_train}))\n",
    "        print('accuracy',trainAcc3)\n"
   ]
  },
  {
   "cell_type": "code",
   "execution_count": null,
   "metadata": {},
   "outputs": [],
   "source": []
  },
  {
   "cell_type": "code",
   "execution_count": null,
   "metadata": {},
   "outputs": [],
   "source": []
  },
  {
   "cell_type": "code",
   "execution_count": null,
   "metadata": {},
   "outputs": [],
   "source": []
  },
  {
   "cell_type": "code",
   "execution_count": null,
   "metadata": {},
   "outputs": [],
   "source": []
  },
  {
   "cell_type": "code",
   "execution_count": null,
   "metadata": {},
   "outputs": [],
   "source": []
  },
  {
   "cell_type": "code",
   "execution_count": null,
   "metadata": {},
   "outputs": [],
   "source": []
  },
  {
   "cell_type": "code",
   "execution_count": null,
   "metadata": {},
   "outputs": [],
   "source": []
  }
 ],
 "metadata": {
  "kernelspec": {
   "display_name": "Python 3",
   "language": "python",
   "name": "python3"
  },
  "language_info": {
   "codemirror_mode": {
    "name": "ipython",
    "version": 3
   },
   "file_extension": ".py",
   "mimetype": "text/x-python",
   "name": "python",
   "nbconvert_exporter": "python",
   "pygments_lexer": "ipython3",
   "version": "3.8.5"
  }
 },
 "nbformat": 4,
 "nbformat_minor": 4
}
